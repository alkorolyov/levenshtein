{
 "cells": [
  {
   "cell_type": "code",
   "execution_count": 2,
   "metadata": {},
   "outputs": [],
   "source": [
    "import random\n",
    "import string\n",
    "from timeit import timeit\n",
    "\n",
    "from dameraulevenshtein import damerau_levenshtein_diversity, damerau_levenshtein_distance\n",
    "\n",
    "def damerau_levenshtein_diversity_py_cy(array):\n",
    "    dl_distance = 0\n",
    "    n = len(array)\n",
    "    for i in range(len(array)):\n",
    "        for j in range(i + 1, len(array)):\n",
    "            dl_distance += damerau_levenshtein_distance(array[i], array[j])\n",
    "    return dl_distance / (n * (n + 1) / 2)\n",
    "\n",
    "def damerau_levenshtein_diversity_py_py(array):\n",
    "    dl_distance = 0\n",
    "    n = len(array)\n",
    "    for i in range(len(array)):\n",
    "        for j in range(i + 1, len(array)):\n",
    "            dl_distance += damerau_levenshtein_distance_py(array[i], array[j])\n",
    "    return dl_distance / (n * (n + 1) / 2)\n",
    "    \n",
    "def damerau_levenshtein_distance_py(seq1, seq2):\n",
    "    oneago = None\n",
    "    thisrow = list(range(1, len(seq2) + 1)) + [0]\n",
    "    for x in range(len(seq1)):\n",
    "        twoago, oneago, thisrow = oneago, thisrow, [0] * len(seq2) + [x + 1]\n",
    "        for y in range(len(seq2)):\n",
    "            delcost = oneago[y] + 1\n",
    "            addcost = thisrow[y - 1] + 1\n",
    "            subcost = oneago[y - 1] + (seq1[x] != seq2[y])\n",
    "            thisrow[y] = min(delcost, addcost, subcost)\n",
    "            if (x > 0 and y > 0 and seq1[x] == seq2[y - 1]\n",
    "                and seq1[x-1] == seq2[y] and seq1[x] != seq2[y]):\n",
    "                thisrow[y] = min(thisrow[y], twoago[y - 2] + 1)\n",
    "    return thisrow[len(seq2) - 1]    \n",
    ""
   ]
  },
  {
   "cell_type": "code",
   "execution_count": 3,
   "metadata": {},
   "outputs": [
    {
     "output_type": "stream",
     "name": "stdout",
     "text": "0\n17\n"
    }
   ],
   "source": [
    "seq1 = '1lpuy42nvy1inwz431inwz4360f40'\n",
    "seq2 = '1jtwy41isxz41jqvy4360'\n",
    "print(damerau_levenshtein_distance_py(seq1, seq2) - \\\n",
    "     damerau_levenshtein_distance(seq1, seq2))\n",
    "print(damerau_levenshtein_distance(seq1, seq2))"
   ]
  },
  {
   "cell_type": "code",
   "execution_count": 4,
   "metadata": {},
   "outputs": [
    {
     "output_type": "stream",
     "name": "stdout",
     "text": "73.3 µs ± 2.75 µs per loop (mean ± std. dev. of 7 runs, 10000 loops each)\n554 µs ± 15.6 µs per loop (mean ± std. dev. of 7 runs, 1000 loops each)\n"
    }
   ],
   "source": [
    "%timeit damerau_levenshtein_distance(seq1, seq2)\n",
    "%timeit damerau_levenshtein_distance_py(seq1, seq2)"
   ]
  },
  {
   "cell_type": "code",
   "execution_count": 5,
   "metadata": {},
   "outputs": [
    {
     "output_type": "stream",
     "name": "stdout",
     "text": "['glawv8u', 'ika91ihgjz', 'znsx819r3', 'i1fcmbne', 'zwbyy75h', 'ui1cw1w', 'o2sbr', 'v9eafjh1w', 'i311r', '3bcnhic', '12ypd8kz', 'lfa5zg89', 'jq98he', 'jmbha', 'kerjx', '6fiarlev', '8tg76oe', 'b7go0w', 'k9z1m', 'rqxo2ac', '26h2qbup', '7jvhs341', 'bj08y8m', 'zdrlh1cj5i', 'vw6c8v6i', 'uxc289', 'a2nuxbjwr', '62hmxr', '1tko9', 'kpcn1mybn', 'dz08pmx5ff', 'zfzsjzeew', 'ty6zw', '0uc6u7byd', 'o0n37', '7l5es9uv', 'glimpj', 'cl6z3p', 'bex5w', '49aik3u5q', 'q16jsn0w', 'mmo4rnvwc', '747x4x', '07kq70e9rh', '2k8yn1a7', 'hrz5cc1yt', '8yas36q6', 'kl940zkz3', '4c3ave8pc', 'mhj7s64p0', 'zou39nr4q', 'ovpgie', 't0tr6kbqhr', '0teozcdlj', 'oexnj', 'zz3ka', 'efn7tm', 'zhit9', 'k7qjdur', 'ms9hnuvn', 'j8ngb', '0uwo9', 'dje4rxn4', '05sqld0v3']\n"
    }
   ],
   "source": [
    "# random.seed(0)\n",
    "lettersdigits = string.ascii_lowercase + string.digits\n",
    "def random_seq():\n",
    "    return ''.join(random.choice(lettersdigits) for _ in range(random.randint(5, 10)))\n",
    "array_seq = [random_seq() for _ in range(64)]\n",
    "print(array_seq)"
   ]
  },
  {
   "cell_type": "code",
   "execution_count": 6,
   "metadata": {},
   "outputs": [
    {
     "output_type": "stream",
     "name": "stdout",
     "text": "14.3 ms ± 380 µs per loop (mean ± std. dev. of 7 runs, 100 loops each)\n14.5 ms ± 57.3 µs per loop (mean ± std. dev. of 7 runs, 100 loops each)\n107 ms ± 612 µs per loop (mean ± std. dev. of 7 runs, 10 loops each)\n"
    }
   ],
   "source": [
    "%timeit damerau_levenshtein_diversity(array_seq)\n",
    "%timeit damerau_levenshtein_diversity_py_cy(array_seq)\n",
    "%timeit damerau_levenshtein_diversity_py_py(array_seq)"
   ]
  }
 ],
 "metadata": {
  "kernelspec": {
   "display_name": "Python 3.7.7 64-bit ('levenshtein': conda)",
   "language": "python",
   "name": "python37764bitlevenshteinconda0eae0233951141eb97d3b147d89c537c"
  },
  "language_info": {
   "codemirror_mode": {
    "name": "ipython",
    "version": 3
   },
   "file_extension": ".py",
   "mimetype": "text/x-python",
   "name": "python",
   "nbconvert_exporter": "python",
   "pygments_lexer": "ipython3",
   "version": "3.7.7-final"
  }
 },
 "nbformat": 4,
 "nbformat_minor": 4
}