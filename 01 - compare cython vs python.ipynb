{
 "cells": [
  {
   "cell_type": "code",
   "execution_count": 24,
   "metadata": {},
   "outputs": [],
   "source": [
    "import random\n",
    "import string\n",
    "from timeit import timeit\n",
    "\n",
    "from dameraulevenshtein import damerau_levenshtein_diversity, damerau_levenshtein_distance\n",
    "\n",
    "def damerau_levenshtein_diversity_py_cy(array):\n",
    "    dl_distance = 0\n",
    "    n = len(array)\n",
    "    for i in range(len(array)):\n",
    "        for j in range(i + 1, len(array)):\n",
    "            dl_distance += damerau_levenshtein_distance(array[i], array[j])\n",
    "    return dl_distance / (n * (n + 1) / 2)\n",
    "\n",
    "def damerau_levenshtein_diversity_py_py(array):\n",
    "    dl_distance = 0\n",
    "    n = len(array)\n",
    "    for i in range(len(array)):\n",
    "        for j in range(i + 1, len(array)):\n",
    "            dl_distance += damerau_levenshtein_distance_py(array[i], array[j])\n",
    "    return dl_distance / (n * (n + 1) / 2)\n",
    "    \n",
    "def damerau_levenshtein_distance_py(seq1, seq2):\n",
    "    oneago = None\n",
    "    thisrow = list(range(1, len(seq2) + 1)) + [0]\n",
    "    for x in range(len(seq1)):\n",
    "        twoago, oneago, thisrow = oneago, thisrow, [0] * len(seq2) + [x + 1]\n",
    "        for y in range(len(seq2)):\n",
    "            delcost = oneago[y] + 1\n",
    "            addcost = thisrow[y - 1] + 1\n",
    "            subcost = oneago[y - 1] + (seq1[x] != seq2[y])\n",
    "            thisrow[y] = min(delcost, addcost, subcost)\n",
    "            if (x > 0 and y > 0 and seq1[x] == seq2[y - 1]\n",
    "                and seq1[x-1] == seq2[y] and seq1[x] != seq2[y]):\n",
    "                thisrow[y] = min(thisrow[y], twoago[y - 2] + 1)\n",
    "    return thisrow[len(seq2) - 1]    \n"
   ]
  },
  {
   "cell_type": "code",
   "execution_count": 15,
   "metadata": {},
   "outputs": [
    {
     "name": "stdout",
     "output_type": "stream",
     "text": [
      "0\n"
     ]
    }
   ],
   "source": [
    "seq1 = '1lpuy42nvy1inwz431inwz4360f40'\n",
    "seq2 = '1jtwy41isxz41jqvy4360'\n",
    "print(damerau_levenshtein_distance_py(seq1, seq2) - \\\n",
    "     damerau_levenshtein_distance(seq1, seq2))"
   ]
  },
  {
   "cell_type": "code",
   "execution_count": 16,
   "metadata": {},
   "outputs": [
    {
     "name": "stdout",
     "output_type": "stream",
     "text": [
      "68.3 µs ± 654 ns per loop (mean ± std. dev. of 7 runs, 10000 loops each)\n",
      "537 µs ± 2.93 µs per loop (mean ± std. dev. of 7 runs, 1000 loops each)\n"
     ]
    }
   ],
   "source": [
    "%timeit damerau_levenshtein_distance(seq1, seq2)\n",
    "%timeit damerau_levenshtein_distance_py(seq1, seq2)"
   ]
  },
  {
   "cell_type": "code",
   "execution_count": 72,
   "metadata": {},
   "outputs": [
    {
     "name": "stdout",
     "output_type": "stream",
     "text": [
      "['uhakj', 'ijlsl', 'cluu06', '7lu7sjz3h', 'qkx2tp', '2yatm', 'fpwolqfvk', 'fge9enzp9', 'gf6v8v1', 'yo3ceeb2w', 'hshejmo8c5', 'mm3pj', 'npmlnfpk3h', '8t3wjlkqqs', 'tojlbd2k5', 'ihvx1mfrmk', '5e33sczwb', 'omfpjy2', 'eyt9q', '8515lo4dgu', 'kh1e4jzld7', '6lf0lk', 'rw1osl7', '1fplm7usb', '0nsu4lp6bf', '981drucb4z', 'zo0xj0txxe', 'kex7oyc', 'njykn', '5pmzl', 'y6dbg', 'l3blq46r', 'nw06ef7f1', 'x77ode2y46', 'tlicjks', 'uz1kc', '1ev84v', 'kja5lpaum', '86smenqn', '8aqg41', 'u6mb6qrgt', 'za7zfkpoju', 'yoz1uwpss', 'kbez2op', 'hjxlxoz', 'pp5c1dv6dx', 'graas23ndx', '9ygh1foj', 'ynbreisrk', 'eypen', '2bbyqneg', '8qg31un8y', 'c1a166a', 'aosnb', 'ho1pt9x', 'zxabers1', 'k20ztqbqx', 'vv3w29', '1l5wslm4l0', 'a4kp8', '24zi0e', 'b8xq76vk1', 'pf2bgxc', 'zgkf091']\n"
     ]
    }
   ],
   "source": [
    "# random.seed(0)\n",
    "lettersdigits = string.ascii_lowercase + string.digits\n",
    "def random_seq():\n",
    "    return ''.join(random.choice(lettersdigits) for _ in range(random.randint(5, 10)))\n",
    "array_seq = [random_seq() for _ in range(64)]\n",
    "print(array_seq)"
   ]
  },
  {
   "cell_type": "code",
   "execution_count": 73,
   "metadata": {},
   "outputs": [
    {
     "name": "stdout",
     "output_type": "stream",
     "text": [
      "14.7 ms ± 515 µs per loop (mean ± std. dev. of 7 runs, 100 loops each)\n",
      "14.6 ms ± 175 µs per loop (mean ± std. dev. of 7 runs, 100 loops each)\n",
      "113 ms ± 544 µs per loop (mean ± std. dev. of 7 runs, 10 loops each)\n"
     ]
    }
   ],
   "source": [
    "%timeit damerau_levenshtein_diversity(array_seq)\n",
    "%timeit damerau_levenshtein_diversity_py_cy(array_seq)\n",
    "%timeit damerau_levenshtein_diversity_py_py(array_seq)"
   ]
  }
 ],
 "metadata": {
  "kernelspec": {
   "display_name": "Python 3",
   "language": "python",
   "name": "python3"
  },
  "language_info": {
   "codemirror_mode": {
    "name": "ipython",
    "version": 3
   },
   "file_extension": ".py",
   "mimetype": "text/x-python",
   "name": "python",
   "nbconvert_exporter": "python",
   "pygments_lexer": "ipython3",
   "version": "3.7.7"
  }
 },
 "nbformat": 4,
 "nbformat_minor": 4
}
