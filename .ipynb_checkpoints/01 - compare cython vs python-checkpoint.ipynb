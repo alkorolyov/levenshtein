{
 "cells": [
  {
   "cell_type": "code",
   "execution_count": null,
   "metadata": {},
   "outputs": [],
   "source": [
    "import random\n",
    "import string\n",
    "from timeit import timeit\n",
    "\n",
    "from dameraulevenshtein import damerau_levenshtein_diversity, damerau_levenshtein_distance\n",
    "\n",
    "def damerau_levenshtein_diversity_py_cy(array):\n",
    "    dl_distance = 0\n",
    "    n = len(array)\n",
    "    for i in range(len(array)):\n",
    "        for j in range(i + 1, len(array)):\n",
    "            dl_distance += damerau_levenshtein_distance(array[i], array[j])\n",
    "    return dl_distance / (n * (n + 1) / 2)\n",
    "\n",
    "def damerau_levenshtein_diversity_py_py(array):\n",
    "    dl_distance = 0\n",
    "    n = len(array)\n",
    "    for i in range(len(array)):\n",
    "        for j in range(i + 1, len(array)):\n",
    "            dl_distance += damerau_levenshtein_distance_py(array[i], array[j])\n",
    "    return dl_distance / (n * (n + 1) / 2)\n",
    "    \n",
    "def damerau_levenshtein_distance_py(seq1, seq2):\n",
    "    oneago = None\n",
    "    thisrow = list(range(1, len(seq2) + 1)) + [0]\n",
    "    for x in range(len(seq1)):\n",
    "        twoago, oneago, thisrow = oneago, thisrow, [0] * len(seq2) + [x + 1]\n",
    "        for y in range(len(seq2)):\n",
    "            delcost = oneago[y] + 1\n",
    "            addcost = thisrow[y - 1] + 1\n",
    "            subcost = oneago[y - 1] + (seq1[x] != seq2[y])\n",
    "            thisrow[y] = min(delcost, addcost, subcost)\n",
    "            if (x > 0 and y > 0 and seq1[x] == seq2[y - 1]\n",
    "                and seq1[x-1] == seq2[y] and seq1[x] != seq2[y]):\n",
    "                thisrow[y] = min(thisrow[y], twoago[y - 2] + 1)\n",
    "    return thisrow[len(seq2) - 1]    \n",
    ""
   ]
  },
  {
   "cell_type": "code",
   "execution_count": null,
   "metadata": {},
   "outputs": [],
   "source": [
    "seq1 = '1lpuy42nvy1inwz431inwz4360f40'\n",
    "seq2 = '1jtwy41isxz41jqvy4360'\n",
    "print(damerau_levenshtein_distance_py(seq1, seq2) - \\\n",
    "     damerau_levenshtein_distance(seq1, seq2))"
   ]
  },
  {
   "cell_type": "code",
   "execution_count": null,
   "metadata": {},
   "outputs": [],
   "source": [
    "%timeit damerau_levenshtein_distance(seq1, seq2)\n",
    "%timeit damerau_levenshtein_distance_py(seq1, seq2)"
   ]
  },
  {
   "cell_type": "code",
   "execution_count": null,
   "metadata": {},
   "outputs": [],
   "source": [
    "# random.seed(0)\n",
    "lettersdigits = string.ascii_lowercase + string.digits\n",
    "def random_seq():\n",
    "    return ''.join(random.choice(lettersdigits) for _ in range(random.randint(5, 10)))\n",
    "array_seq = [random_seq() for _ in range(64)]\n",
    "print(array_seq)"
   ]
  },
  {
   "cell_type": "code",
   "execution_count": null,
   "metadata": {},
   "outputs": [],
   "source": [
    "%timeit damerau_levenshtein_diversity(array_seq)\n",
    "%timeit damerau_levenshtein_diversity_py_cy(array_seq)\n",
    "%timeit damerau_levenshtein_diversity_py_py(array_seq)"
   ]
  }
 ],
 "metadata": {
  "kernelspec": {
   "display_name": "Python 3.7.7 64-bit ('levenshtein': conda)",
   "language": "python",
   "name": "python37764bitlevenshteinconda0eae0233951141eb97d3b147d89c537c"
  },
  "language_info": {
   "codemirror_mode": {
    "name": "ipython",
    "version": 3
   },
   "file_extension": ".py",
   "mimetype": "text/x-python",
   "name": "python",
   "nbconvert_exporter": "python",
   "pygments_lexer": "ipython3",
   "version": "3.7.7-final"
  }
 },
 "nbformat": 4,
 "nbformat_minor": 4
}